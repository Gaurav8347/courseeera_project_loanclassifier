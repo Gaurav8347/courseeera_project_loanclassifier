{
    "cells": [
        {
            "cell_type": "markdown",
            "metadata": {},
            "source": "In this notebook we try to practice all the classification algorithms that we learned in this course.\n\nWe load a dataset using Pandas library, and apply the following algorithms, and find the best one for this specific dataset by accuracy evaluation methods.\n\nLets first load required libraries:"
        },
        {
            "cell_type": "code",
            "execution_count": null,
            "metadata": {},
            "outputs": [],
            "source": "import itertools\nimport numpy as np\nimport matplotlib.pyplot as plt\nfrom matplotlib.ticker import NullFormatter\nimport pandas as pd\nimport numpy as np\nimport matplotlib.ticker as ticker\nfrom sklearn import preprocessing\n"
        },
        {
            "cell_type": "markdown",
            "metadata": {},
            "source": "# About dataset"
        },
        {
            "cell_type": "markdown",
            "metadata": {},
            "source": "About dataset:This dataset is about past loans. The Loan_Data_set.csv data set includes details of 96 customers whose loan are already paid off or defaulted. It includes following fields:"
        },
        {
            "cell_type": "markdown",
            "metadata": {},
            "source": "    Loan_ID: Loan Id\n    Gender : The gender of applicant\n    Married : The marrital status of applicant\n    Dependents : The total no of dependents\n    Education :  Graduate or non Graduate\n    Self_Employed : self employed or not\n    ApplicantIncome : Income of applicant\n    CoapplicantIncome : Income of  Coapplicant\n    LoanAmount : Loan amount needed\n    Loan_Amount_Term : Term of loan amount\n    Credit_History : Is there any credit history or not\n    Property_Area : Area of property ,rural or urban or semi urban\n    Loan_Status : Loan status yes or not."
        },
        {
            "cell_type": "code",
            "execution_count": 30,
            "metadata": {},
            "outputs": [
                {
                    "name": "stdout",
                    "output_type": "stream",
                    "text": "    Loan_ID  Gender  Married  Dependents  Education  Self_Employed  \\\n0  LP001003       1        1           1          1              0   \n1  LP001005       1        1           0          1              1   \n2  LP001006       1        1           0          0              0   \n3  LP001008       1        0           0          1              0   \n4  LP001011       1        1           2          1              1   \n5  LP001013       1        1           0          0              0   \n6  LP001014       1        1           3          1              0   \n7  LP001018       1        1           2          1              0   \n8  LP001020       1        1           1          1              0   \n9  LP001024       1        1           2          1              0   \n\n   ApplicantIncome  CoapplicantIncome  LoanAmount  Loan_Amount_Term  \\\n0             4583               1508         128               360   \n1             3000                  0          66               360   \n2             2583               2358         120               360   \n3             6000                  0         141               360   \n4             5417               4196         267               360   \n5             2333               1516          95               360   \n6             3036               2504         158               360   \n7             4006               1526         168               360   \n8            12841              10968         349               360   \n9             3200                700          70               360   \n\n   Credit_History  Property_Area  Loan_Status  \n0               1              0            0  \n1               1              1            1  \n2               1              1            1  \n3               1              1            1  \n4               1              1            1  \n5               1              1            1  \n6               0              2            0  \n7               1              1            1  \n8               1              2            0  \n9               1              1            1  \n"
                }
            ],
            "source": "# The code was removed by Watson Studio for sharing."
        },
        {
            "cell_type": "code",
            "execution_count": null,
            "metadata": {},
            "outputs": [],
            "source": "#Lets define feature sets, X:\n#To use scikit-learn library, we have to convert the Pandas data frame to a Numpy array:\nX = df[['Gender', 'Married', 'Dependents', 'Education', 'Self_Employed', 'ApplicantIncome', 'CoapplicantIncome',\n        'LoanAmount', 'Loan_Amount_Term', 'Credit_History', 'Property_Area']] .values\n\nX[0:5]\ny = df['Loan_Status'].values\ny[0:5]"
        },
        {
            "cell_type": "code",
            "execution_count": 11,
            "metadata": {},
            "outputs": [
                {
                    "name": "stderr",
                    "output_type": "stream",
                    "text": "/opt/conda/envs/Python36/lib/python3.6/site-packages/sklearn/utils/validation.py:595: DataConversionWarning: Data with input dtype int64 was converted to float64 by StandardScaler.\n  warnings.warn(msg, DataConversionWarning)\n/opt/conda/envs/Python36/lib/python3.6/site-packages/sklearn/utils/validation.py:595: DataConversionWarning: Data with input dtype <U21 was converted to float64 by StandardScaler.\n  warnings.warn(msg, DataConversionWarning)\n"
                },
                {
                    "data": {
                        "text/plain": "array([[ 0.46388563,  0.69059617,  0.24057375,  0.51298918, -0.35973847,\n         0.053612  , -0.17235222, -0.15996588,  0.3142227 ,  0.41319694,\n        -2.01761474],\n       [ 0.46388563,  0.69059617, -0.68322945,  0.51298918,  2.77979725,\n        -0.52441628, -0.89312776, -1.12267259,  0.3142227 ,  0.41319694,\n        -0.48038446],\n       [ 0.46388563,  0.69059617, -0.68322945, -1.94935887, -0.35973847,\n        -0.67668273,  0.23392046, -0.2841861 ,  0.3142227 ,  0.41319694,\n        -0.48038446],\n       [ 0.46388563, -1.44802424, -0.68322945,  0.51298918, -0.35973847,\n         0.57102582, -0.89312776,  0.04189198,  0.3142227 ,  0.41319694,\n        -0.48038446],\n       [ 0.46388563,  0.69059617,  1.16437695,  0.51298918,  2.77979725,\n         0.3581449 ,  1.11242539,  1.99836045,  0.3142227 ,  0.41319694,\n        -0.48038446]])"
                    },
                    "execution_count": 11,
                    "metadata": {},
                    "output_type": "execute_result"
                }
            ],
            "source": "#Data Standardization give data zero mean and unit variance, it is good practice, especially for algorithms such as KNN\n# which is based on distance of cases:\nX = preprocessing.StandardScaler().fit(X).transform(X.astype(str))\nX[0:5]"
        },
        {
            "cell_type": "code",
            "execution_count": 37,
            "metadata": {},
            "outputs": [
                {
                    "name": "stdout",
                    "output_type": "stream",
                    "text": "Train set: (48, 11) (48,)\nTest set: (48, 11) (48,)\n"
                }
            ],
            "source": "from sklearn.model_selection import train_test_split\n#Train Test Split\u00b6\nX_train, X_test, y_train, y_test = train_test_split(X, y, test_size=0.5, random_state=4)\nprint('Train set:', X_train.shape,  y_train.shape)\nprint('Test set:', X_test.shape,  y_test.shape)"
        },
        {
            "cell_type": "markdown",
            "metadata": {},
            "source": "# Train model for knn"
        },
        {
            "cell_type": "code",
            "execution_count": null,
            "metadata": {},
            "outputs": [],
            "source": "from sklearn.neighbors import KNeighborsClassifier\n#Training\n#Lets start the algorithm with k=4 for now:\nk = 3\n#Train Model and Predict\nneigh = KNeighborsClassifier(n_neighbors=k).fit(X_train, y_train)\n#Predicting\n#we can use the model to predict the test set:\nyhat = neigh.predict(X_test)\nyhat[0:5]"
        },
        {
            "cell_type": "code",
            "execution_count": 14,
            "metadata": {},
            "outputs": [
                {
                    "name": "stdout",
                    "output_type": "stream",
                    "text": "Train set Accuracy:  0.8958333333333334\nTest set Accuracy:  0.7291666666666666\n"
                },
                {
                    "data": {
                        "image/png": "[encoded data removed]",
                        "text/plain": "<Figure size 432x288 with 1 Axes>"
                    },
                    "metadata": {
                        "needs_background": "light"
                    },
                    "output_type": "display_data"
                },
                {
                    "name": "stdout",
                    "output_type": "stream",
                    "text": "The best accuracy was with 0.7291666666666666 with k= 3\n"
                }
            ],
            "source": "from sklearn import metrics\n#Accuracy evaluation\nprint(\"Train set Accuracy: \", metrics.accuracy_score(y_train, neigh.predict(X_train)))\nprint(\"Test set Accuracy: \", metrics.accuracy_score(y_test, yhat))\nKs = 10\nmean_acc = np.zeros((Ks - 1))\nstd_acc = np.zeros((Ks - 1))\nConfustionMx = [];\nfor n in range(2, Ks):\n        # Train Model and Predict\n        neigh = KNeighborsClassifier(n_neighbors=n).fit(X_train, y_train)\n        yhat = neigh.predict(X_test)\n        mean_acc[n - 1] = metrics.accuracy_score(y_test, yhat)\n\n        std_acc[n - 1] = np.std(yhat == y_test) / np.sqrt(yhat.shape[0])\n\nmean_acc\n\nplt.plot(range(1, Ks), mean_acc, 'g')\nplt.fill_between(range(1, Ks), mean_acc - 1 * std_acc, mean_acc + 1 * std_acc, alpha=0.10)\nplt.legend(('Accuracy ', '+/- 3xstd'))\nplt.ylabel('Accuracy ')\nplt.xlabel('Number of Nabors (K)')\nplt.tight_layout()\nplt.show()\nprint(\"The best accuracy was with\", mean_acc.max(), \"with k=\", mean_acc.argmax() + 1)"
        },
        {
            "cell_type": "markdown",
            "metadata": {},
            "source": "# Decision tree "
        },
        {
            "cell_type": "code",
            "execution_count": 15,
            "metadata": {},
            "outputs": [
                {
                    "name": "stdout",
                    "output_type": "stream",
                    "text": "DecisionTrees's Accuracy:  0.875\n"
                }
            ],
            "source": "from sklearn.tree import DecisionTreeClassifier\nloanTree = DecisionTreeClassifier(criterion=\"entropy\", max_depth = 4)\nloanTree # it shows the default parameters\nloanTree.fit(X_train,y_train)\npredTree = loanTree.predict(X_test)\nprint(\"DecisionTrees's Accuracy: \", metrics.accuracy_score(y_test, predTree))"
        },
        {
            "cell_type": "markdown",
            "metadata": {},
            "source": "# Support Vector Machine"
        },
        {
            "cell_type": "code",
            "execution_count": null,
            "metadata": {},
            "outputs": [],
            "source": "from sklearn import svm\nclf = svm.SVC()\nclf.fit(X_train, y_train)\nyhat = clf.predict(X_test)\nyhat [0:5]"
        },
        {
            "cell_type": "markdown",
            "metadata": {},
            "source": "# Logistic Regression"
        },
        {
            "cell_type": "code",
            "execution_count": null,
            "metadata": {},
            "outputs": [],
            "source": "from sklearn.linear_model import LogisticRegression\nLR = LogisticRegression(C=0.01, solver='liblinear').fit(X_train,y_train)\nLR\nyhat = LR.predict(X_test)\nyhat"
        },
        {
            "cell_type": "markdown",
            "metadata": {},
            "source": "# Model Evaluation using Test set\n"
        },
        {
            "cell_type": "markdown",
            "metadata": {},
            "source": "# 1.Knn"
        },
        {
            "cell_type": "code",
            "execution_count": 18,
            "metadata": {},
            "outputs": [
                {
                    "name": "stdout",
                    "output_type": "stream",
                    "text": "KNN Jaccard index:  0.6666666666666666\nKNN F1-score:  0.5527065527065527\n"
                }
            ],
            "source": "from sklearn.metrics import jaccard_similarity_score\nfrom sklearn.metrics import f1_score\nfrom sklearn.metrics import log_loss\n# predicted y\nyhat_knn = neigh.predict(X_test)\n# jaccard\njaccard_knn = jaccard_similarity_score(y_test, yhat_knn)\nprint(\"KNN Jaccard index: \", jaccard_knn)\n# f1_score\nf1_score_knn = f1_score(y_test, yhat_knn, average='weighted')\nprint(\"KNN F1-score: \", f1_score_knn)"
        },
        {
            "cell_type": "markdown",
            "metadata": {},
            "source": "# 2.Decision tree"
        },
        {
            "cell_type": "code",
            "execution_count": 19,
            "metadata": {},
            "outputs": [
                {
                    "name": "stdout",
                    "output_type": "stream",
                    "text": "DT Jaccard index:  0.875\nDT F1-score:  0.873046875\n"
                }
            ],
            "source": "from sklearn.tree import DecisionTreeClassifier\n# predicted y\nyhat_dt = loanTree.predict(X_test)\n\n# jaccard\njaccard_dt = jaccard_similarity_score(y_test, yhat_dt)\nprint(\"DT Jaccard index: \", jaccard_dt)\n\n# f1_score\nf1_score_dt = f1_score(y_test, yhat_dt, average='weighted')\nprint(\"DT F1-score: \", f1_score_dt)"
        },
        {
            "cell_type": "markdown",
            "metadata": {},
            "source": "# 3.SVM"
        },
        {
            "cell_type": "code",
            "execution_count": 35,
            "metadata": {},
            "outputs": [
                {
                    "name": "stdout",
                    "output_type": "stream",
                    "text": "SVM Jaccard index:  0.6875\nSVM F1-score:  0.6178571428571429\n"
                }
            ],
            "source": "from sklearn import svm\n# predicted y\nyhat_svm = clf.predict(X_test)\n\n# jaccard\njaccard_svm = jaccard_similarity_score(y_test, yhat_svm)\nprint(\"SVM Jaccard index: \", jaccard_svm)\n\n# f1_score\nf1_score_svm = f1_score(y_test, yhat_svm, average='weighted')\nprint(\"SVM F1-score: \", f1_score_svm)"
        },
        {
            "cell_type": "markdown",
            "metadata": {},
            "source": "# 4.Logistic regression"
        },
        {
            "cell_type": "code",
            "execution_count": 21,
            "metadata": {},
            "outputs": [
                {
                    "name": "stdout",
                    "output_type": "stream",
                    "text": "LR Jaccard index:  0.8333333333333334\nLR F1-score:  0.8272727272727273\nLR log loss:  0.6510981955850862\n"
                }
            ],
            "source": "from sklearn.linear_model import LogisticRegression\n# predicted y\nyhat_lg = LR.predict(X_test)\nyhat_lg_prob = LR.predict_proba(X_test)\n\n# jaccard\njaccard_lg = jaccard_similarity_score(y_test, yhat_lg)\nprint(\"LR Jaccard index: \", jaccard_lg)\n\n# f1_score\nf1_score_lg = f1_score(y_test, yhat_lg, average='weighted')\nprint(\"LR F1-score: \", f1_score_lg)\n\n# logloss\nlogloss_lg = log_loss(y_test, yhat_lg_prob)\nprint(\"LR log loss: \", logloss_lg)"
        },
        {
            "cell_type": "markdown",
            "metadata": {},
            "source": "# Report"
        },
        {
            "cell_type": "markdown",
            "metadata": {},
            "source": "    Algorithm            |Jaccard            |F1-score          LogLoss          \n    1.KNN                0.6666666666666666  0.5527065527065527 NA      \n    2.Decision Tree      0.8541666666666666  0.850475599669148  NA\n    3.SVM                0.6875              0.6178571428571429 NA\n    4.LogisticRegression 0.8333333333333334  0.8272727272727273 0.6510981955850862\n"
        }
    ],
    "metadata": {
        "kernelspec": {
            "display_name": "Python 3.6",
            "language": "python",
            "name": "python3"
        },
        "language_info": {
            "codemirror_mode": {
                "name": "ipython",
                "version": 3
            },
            "file_extension": ".py",
            "mimetype": "text/x-python",
            "name": "python",
            "nbconvert_exporter": "python",
            "pygments_lexer": "ipython3",
            "version": "3.6.9"
        }
    },
    "nbformat": 4,
    "nbformat_minor": 1
}